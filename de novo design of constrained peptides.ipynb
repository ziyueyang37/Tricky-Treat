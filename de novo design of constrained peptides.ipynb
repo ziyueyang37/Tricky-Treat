{
 "cells": [
  {
   "cell_type": "markdown",
   "metadata": {},
   "source": [
    "### Accurate de novo design of hyperstable costrained peptides"
   ]
  },
  {
   "cell_type": "markdown",
   "metadata": {},
   "source": [
    "Date: 07/21/2020"
   ]
  },
  {
   "cell_type": "markdown",
   "metadata": {},
   "source": [
    "<b><i>de novo:</i></b> <p>A computational design algorithm based on physical chemical potential functions,  stereochemical constraints used to screen a combinatorial library of possible amino acid sequences for compatibility with the design target"
   ]
  },
  {
   "cell_type": "markdown",
   "metadata": {},
   "source": [
    "### Constrained peptides\n",
    "\n",
    "Constrained peptides represent a new class of peptide molecules whose supra-molecular structure is controlled via intra-molecular covalent bonds, generally to confer upon them biochemical and physicochemical properties superior to those of ordinary peptides.<p>\n",
    "The size of constrained peptides is between protein and small molecules.<p>\n",
    "    Naturally occurring constrained peptides play critical roles in signalling, immunity and are among the most potent pharmacologicallyactive compunds known"
   ]
  },
  {
   "cell_type": "markdown",
   "metadata": {},
   "source": [
    "### Strategy\n",
    "<b>step 1.Created a 'blueprint'</b> by setting constraints<p>\n",
    "    <b>step 2. Generate sequence/conformation randomly</b> (Monte Carlo-based assembly, tuning the parameters..)<p>\n",
    "        <b>step 3. Scan the sequence and optimize the conformation</b> check for the compatibility with designed target<p>\n",
    "            <b>step 4. Experimental validation</b> (genetical synthesis, MD simulation)"
   ]
  },
  {
   "cell_type": "markdown",
   "metadata": {},
   "source": [
    "### Genetically encodable disulfide-constrained peptides\n",
    "### Synthetic heterochiral disulfide-constrained peptides\n",
    "### Synthetic backbone-cyclized peptides\n"
   ]
  },
  {
   "cell_type": "markdown",
   "metadata": {},
   "source": [
    "### Questions\n",
    "#### 1. What are the authors trying to optimize in step 3?\n",
    "#### 2. Try to explain figure2.b\n",
    "#### 3. Which conformation is more stable?\n",
    "![title](img/stable.jpg)\n",
    "#### 4. "
   ]
  },
  {
   "cell_type": "code",
   "execution_count": null,
   "metadata": {},
   "outputs": [],
   "source": []
  }
 ],
 "metadata": {
  "kernelspec": {
   "display_name": "Python 3",
   "language": "python",
   "name": "python3"
  },
  "language_info": {
   "codemirror_mode": {
    "name": "ipython",
    "version": 3
   },
   "file_extension": ".py",
   "mimetype": "text/x-python",
   "name": "python",
   "nbconvert_exporter": "python",
   "pygments_lexer": "ipython3",
   "version": "3.7.6"
  }
 },
 "nbformat": 4,
 "nbformat_minor": 4
}
